{
 "cells": [
  {
   "cell_type": "markdown",
   "metadata": {
    "colab_type": "text",
    "id": "view-in-github"
   },
   "source": [
    "<a href=\"https://colab.research.google.com/github/isb-cgc/Community-Notebooks/blob/master/HTAN/Python%20Notebooks/Analyzing_HTAN_spatial_data_with_BigQuery_geospatial_analytics.ipynb\" target=\"_parent\"><img src=\"https://colab.research.google.com/assets/colab-badge.svg\" alt=\"Open In Colab\"/></a>"
   ]
  },
  {
   "cell_type": "markdown",
   "metadata": {
    "id": "t-zQyE-9pPTT"
   },
   "source": [
    "# Analyzing HTAN spatial data with BigQuery spatial analytics"
   ]
  },
  {
   "cell_type": "markdown",
   "metadata": {
    "id": "lAmN1pySqeaC"
   },
   "source": [
    "        Title:   Analyzing HTAN spatial data with BigQuery geospatial analytics\n",
    "        Author:  Boris Aguilar (baguilar@systemsbiology.org) & Vesteinn Thorsson\n",
    "        Created: 02/14/2024\n",
    "        Purpose: Provide examples of how BigQuery geospatial analytics can be used to analyze spatial data in HTAN.\n",
    "        URL:     NA\n",
    "        Notes:   NA"
   ]
  },
  {
   "cell_type": "markdown",
   "metadata": {
    "id": "SGoanGvptfxJ"
   },
   "source": [
    "# 1. Introduction & Overview\n",
    "[HTAN](https://humantumoratlas.org/) is a National Cancer Institute (NCI)-funded Cancer Moonshot initiative to construct 3-dimensional atlases of the dynamic cellular, morphological, and molecular features of human cancers as they evolve from precancerous lesions to advanced disease [[Cell April 2020](https://www.sciencedirect.com/science/article/pii/S0092867420303469)].\n",
    "\n",
    "\n",
    "Many HTAN Research Centers employ highly-multiplexed imaging to gain understanding of molecular processes and interactions at work in the tumor microenvironment.  The study [The Spatial Landscape of Progression and Immunoediting in Primary Melanoma at Single-Cell Resolution](https://aacrjournals.org/cancerdiscovery/article/12/6/1518/699151/The-Spatial-Landscape-of-Progression-and), Ajit Nirmal et al, Cancer Discov (2022) 12 (6): 1518–1541, uses multiplexed whole-slide imaging analysis to characterize intermixed and graded morphological and molecular features in human melanoma cancer samples, highlighting large-scale cancer-characteristic structural features. Spatial profiling of proteins and mRNA reveals recurrent morphologic and molecular features of tumor evolution that involve localized paracrine cytokine signaling and direct cell–cell contact.\n",
    "\n",
    "[Google BigQuery Geospatial Analytics](https://cloud.google.com/bigquery/docs/geospatial-intro) enables seamless and efficient analysis and visualization of geospatial data within Google BigQuery. \n",
    "\n",
    "### 1.1 Goal\n",
    "\n",
    "This notebook offers examples demonstrating how BigQuery spatial analytics can assist in the analysis and exploration of spatial data accessible within HTAN BigQuery tables.\n",
    "\n",
    "### 1.2 Inputs, Outputs, & Data\n",
    "\n",
    "This notebook utilizes spatial transcriptomics data from Melanoma samples within the ISB-CGC HTAN dataset (https://isb-cgc.appspot.com/). Specifically, we will be utilizing the public BigQuery table named [isb-cgc-bq.HTAN.imaging_level4_HMS_mel_mask_current](https://console.cloud.google.com/bigquery?p=isb-cgc-bq&d=HTAN&t=imaging_level4_HMS_mel_mask_current&page=table). The originating data can be found on the [HTAN Data Portal](https://data.humantumoratlas.org/).\n",
    "\n",
    "\n"
   ]
  },
  {
   "cell_type": "markdown",
   "metadata": {
    "id": "bkwNN1VM3lwh"
   },
   "source": [
    "# 2. Environment and Module setup"
   ]
  },
  {
   "cell_type": "code",
   "execution_count": 1,
   "metadata": {
    "id": "NGXY73mqIa8I"
   },
   "outputs": [],
   "source": [
    "import pandas as pd\n",
    "import seaborn as sns\n",
    "import numpy as np\n",
    "import matplotlib.pyplot as plt\n",
    "from google.cloud import bigquery\n",
    "import pandas_gbq\n",
    "#from google.colab import auth ## Can be omitted if you are running locally"
   ]
  },
  {
   "cell_type": "markdown",
   "metadata": {
    "id": "NYfzZArq4aeI"
   },
   "source": [
    "# 3. Google Authentication\n",
    "Running the BigQuery cells in this notebook requires a Google Cloud Project, instructions for creating a project can be found in the [Google Documentation](https://cloud.google.com/resource-manager/docs/creating-managing-projects#console). The instance needs to be authorized to bill the project for queries. For more information on getting started in the cloud see [Quick Start Guide to ISB-CGC](https://nbviewer.org/github/isb-cgc/Community-Notebooks/blob/master/Notebooks/Quick_Start_Guide_to_ISB_CGC.ipynb) and alternative authentication methods can be found in the [Google Documentation](https://cloud.google.com/resource-manager/docs/creating-managing-projects#console)."
   ]
  },
  {
   "cell_type": "code",
   "execution_count": 2,
   "metadata": {
    "id": "SDT1SuIWOktE"
   },
   "outputs": [
    {
     "ename": "NameError",
     "evalue": "name 'auth' is not defined",
     "output_type": "error",
     "traceback": [
      "\u001b[0;31m---------------------------------------------------------------------------\u001b[0m",
      "\u001b[0;31mNameError\u001b[0m                                 Traceback (most recent call last)",
      "Cell \u001b[0;32mIn[2], line 2\u001b[0m\n\u001b[1;32m      1\u001b[0m \u001b[38;5;66;03m# if you're using Google Colab, authenticate to gcloud with the following:\u001b[39;00m\n\u001b[0;32m----> 2\u001b[0m \u001b[43mauth\u001b[49m\u001b[38;5;241m.\u001b[39mauthenticate_user()\n\u001b[1;32m      4\u001b[0m \u001b[38;5;66;03m# alternatively, use the gcloud SDK\u001b[39;00m\n\u001b[1;32m      5\u001b[0m \u001b[38;5;66;03m# !gcloud auth application-default login\u001b[39;00m\n\u001b[1;32m      7\u001b[0m get_ipython()\u001b[38;5;241m.\u001b[39mrun_line_magic(\u001b[38;5;124m'\u001b[39m\u001b[38;5;124menv\u001b[39m\u001b[38;5;124m'\u001b[39m, \u001b[38;5;124m'\u001b[39m\u001b[38;5;124mGOOGLE_APPLICATION_CREDENTIALS=/home/jovyan/key-file\u001b[39m\u001b[38;5;124m'\u001b[39m)\n",
      "\u001b[0;31mNameError\u001b[0m: name 'auth' is not defined"
     ]
    }
   ],
   "source": [
    "# if you're using Google Colab, authenticate to gcloud with the following:\n",
    "auth.authenticate_user()\n",
    "\n",
    "# alternatively, use the gcloud SDK\n",
    "# !gcloud auth application-default login"
   ]
  },
  {
   "cell_type": "code",
   "execution_count": null,
   "metadata": {},
   "outputs": [],
   "source": []
  },
  {
   "cell_type": "code",
   "execution_count": null,
   "metadata": {
    "id": "fDqFXR3BCUbx"
   },
   "outputs": [],
   "source": [
    "# For running in this teaching session we provided a service account authentication\n",
    "%env GOOGLE_APPLICATION_CREDENTIALS=/home/jovyan/key-file\n",
    "\n",
    "# set the google project that will be referenced for this notebook's computations\n",
    "project_id = 'isb-cgc-outreach'\n",
    "\n",
    "# Create a client to access the data within BigQuery\n",
    "client = bigquery.Client(project_id)\n"
   ]
  },
  {
   "cell_type": "markdown",
   "metadata": {
    "id": "opBdelEbmN4Z",
    "tags": []
   },
   "source": [
    "# 4. Exploration and analysis of HTAN spatial data with BigQuery\n",
    "\n",
    "We will focus on imaging data of sample MEL1-1 as described in [the manuscript](https://aacrjournals.org/cancerdiscovery/article/12/6/1518/699151/The-Spatial-Landscape-of-Progression-and). This tissue section corresponds to HTAN biospecimen `HTA7_1_3`. An excellent [interactive guide](https://labsyspharm.github.io/HTA-MELATLAS-1/stories/MEL1-full-story.html\n",
    ") to the to multiplex imaging data for this biospecimen is available as [Minerva Story](https://github.com/labsyspharm/minerva-story/wiki).\n",
    "\n",
    "The necessary data can be found in the BigQuery table [isb-cgc-bq.HTAN.imaging_level4_HMS_mel_mask_current](https://console.cloud.google.com/bigquery?p=isb-cgc-bq&d=HTAN&t=imaging_level4_HMS_mel_mask_current&page=table). This table contains estimated marker intensities following cell segmentation, along with data on the location of segmented cells. For our analysis, we will utilize the cell locations denoted by the centroids X_centroid and Y_centroid, representing the coordinates of cells in pixels (where 1 pixel corresponds to 0.65 micrometers).\n"
   ]
  },
  {
   "cell_type": "markdown",
   "metadata": {
    "id": "Cntkk2q64lIF"
   },
   "source": [
    "## 4.1 Labeling tumor cells\n",
    "Firstly, we will label cancer cells within the samples. As per the manuscript, cancer cells typically exhibit positive expression of SOX10, along with  positive S100B and/or positive CD63. This labeling process involves applying a predefined thresholds for the expression levels of these markers. We calibrated these tresholds manually; but the manuscript provides more details about how to identify cell types from markers.\n",
    "\n",
    "Finally we will focus on a spatial region of HTA7_1_3  labeled  Invasive Melanoma (IM), delineated by the following corner coordinates: (23076.9, 9615.3) and (30384.6, 15000)."
   ]
  },
  {
   "cell_type": "markdown",
   "metadata": {
    "id": "gIPz0eXgQk-G"
   },
   "source": [
    "The follow query is an example of how to label tumor cells using the required markers which are in the columns  `S100B_cellRingMask`, `S100B_cellRingMask`, and `CD63_cellRingMask` :"
   ]
  },
  {
   "cell_type": "code",
   "execution_count": null,
   "metadata": {
    "colab": {
     "base_uri": "https://localhost:8080/",
     "height": 442
    },
    "id": "eTniE42Dw4uU",
    "outputId": "27b7a765-afbc-43d4-9601-c3a32c536ff7"
   },
   "outputs": [],
   "source": [
    "query = \"\"\"\n",
    "WITH cells AS (\n",
    "  SELECT  CellID, X_centroid,\tY_centroid,\n",
    "    IF ( SOX10_cellRingMask > 3704.5 AND (S100B_cellRingMask > 7589.48 OR CD63_cellRingMask > 570.68 ),\n",
    "      'Tumor', 'Other'  ) AS celltype\n",
    "  FROM `isb-cgc-bq.HTAN.imaging_level4_HMS_mel_mask_current`\n",
    "  WHERE HTAN_Biospecimen_ID = 'HTA7_1_3'\n",
    ")\n",
    "SELECT CellID, X_centroid,\tY_centroid, celltype\n",
    "FROM cells\n",
    "WHERE X_centroid > 23076.9 AND X_centroid < 30384.6\n",
    "  AND Y_centroid > 9615.3 AND Y_centroid < 15000\n",
    "\"\"\"\n",
    "df = pandas_gbq.read_gbq(query,project_id=project_id)\n",
    "df"
   ]
  },
  {
   "cell_type": "markdown",
   "metadata": {
    "id": "zvQFiYgCRFak"
   },
   "source": [
    "The following code generates an image of the location of Tumor and Other cells from the above dataframe. This image is similar to Figure 3A of the [manuscript](https://aacrjournals.org/cancerdiscovery/article/12/6/1518/699151/The-Spatial-Landscape-of-Progression-and).  "
   ]
  },
  {
   "cell_type": "code",
   "execution_count": null,
   "metadata": {
    "colab": {
     "base_uri": "https://localhost:8080/",
     "height": 450
    },
    "id": "AqAIO3WAd0Q8",
    "outputId": "c6a7a6b5-38e9-4fb0-cd23-c7134de1a753"
   },
   "outputs": [],
   "source": [
    "# Set the seaborn theme\n",
    "sns.set_style(\"white\")\n",
    "\n",
    "# Let's plot the centroids and color them by marker first:\n",
    "g=sns.scatterplot(y=\"Y_centroid\", x=\"X_centroid\", hue='celltype', s=5,  data=df, alpha = 0.5, palette=\"icefire\")\n",
    "\n",
    "sns.move_legend(g, \"upper right\", title='Cell type',  bbox_to_anchor=(1.2, 1.01))\n",
    "plt.axis('equal')\n",
    "g.invert_yaxis() # Flip the y-axis so it aligns with the figure in the publication"
   ]
  },
  {
   "cell_type": "markdown",
   "metadata": {
    "id": "7Lb_zErre5M_"
   },
   "source": [
    "## 4.2 Computing local neighborhoods using BigQuery Geospatial analytics"
   ]
  },
  {
   "cell_type": "markdown",
   "metadata": {
    "id": "8qg-hSd7Tv_j"
   },
   "source": [
    "Often, spatial analysis necessitates the identification of neighboring cells, which are cell pairs situated closer than a specified threshold distance. Here, we employ BigQuery spatial analytics to identify neighboring cells for each tumor cell.\n",
    "\n",
    "BigQuery operates with distances in spherical geographic coordinate, thus requiring the rescaling of pixel coordinates to latitude and longitude. We found that a good approximation is to assume that the maximum dimension of the image in pixels corresponds to 0.1 Earth angular degrees. Given that the HTA7_1_3 image dimensions are (36857, 25808) pixels, we rescale the cell coordinates by a factor of 1/368570. Furthermore, based on this assumption, 20 micrometers equates to 9.29324770787722 meters, serving as the threshold distance in BigQuery.\n",
    "  \n",
    "The following query initially labels all cells in HTA7_1_3 as either \"Tumor\" or \"Other\" and creates a [ST_GeogPoint](https://cloud.google.com/bigquery/docs/reference/standard-sql/geography_functions#st_geogpoint) object defining a geospatial point in BigQuery. Subsequently, the query utilizes the [ST_DWithin](https://cloud.google.com/bigquery/docs/reference/standard-sql/geography_functions#st_within) function to generate a table in which rows correspond to pairs of cells that are closer than 9.29324770787722 meters."
   ]
  },
  {
   "cell_type": "code",
   "execution_count": null,
   "metadata": {
    "id": "bXOYe17df5bL"
   },
   "outputs": [],
   "source": [
    "query = \"\"\"\n",
    "WITH geodat AS(\n",
    "   SELECT CellID, X_centroid, Y_centroid,\n",
    "    IF ( SOX10_cellRingMask > 3704.5 AND (S100B_cellRingMask > 7589.48 OR CD63_cellRingMask > 570.68 ),\n",
    "      'Tumor', 'Other'  ) AS celltype,\n",
    "    ST_GeogPoint(X_centroid/368570 ,Y_centroid/368570 ) as p,\n",
    "   FROM `isb-cgc-bq.HTAN.imaging_level4_HMS_mel_mask_current`\n",
    "   WHERE HTAN_Biospecimen_ID='HTA7_1_3'\n",
    ")\n",
    "SELECT t1.CellID , t1.X_centroid, t1.Y_centroid, t1.p, t1.celltype,\n",
    "  t2.CellID AS  CellID_1, t2.X_centroid AS X_centroid_1, t2.Y_centroid AS Y_centroid_1, t2.p AS p_1, t2.celltype AS celltype_1,\n",
    "  ST_Distance(t1.p,t2.p) as Distance\n",
    "FROM geodat as t1\n",
    "JOIN geodat as t2\n",
    "ON ST_DWithin(t1.p, t2.p, 9.29324770787722)\n",
    "\"\"\""
   ]
  },
  {
   "cell_type": "markdown",
   "metadata": {
    "id": "P-SnsOS1Zv9F"
   },
   "source": [
    "It is important to highlight that HTA7_1_3 comprises over 1.1 million cells, and the output of the query mentioned above yields a table with nearly 14 million rows. Therefore, rather than downloading the data, we opt to generate a new BigQuery table containing the query output. The BigQuery table will be generated in the Google Cloud Project you specified as `project_id` above. Should the table already exist, the code will simply overwrite it.\n"
   ]
  },
  {
   "cell_type": "code",
   "execution_count": null,
   "metadata": {
    "colab": {
     "base_uri": "https://localhost:8080/"
    },
    "id": "NkvH0OwNnSgO",
    "outputId": "504775e2-6177-4a30-afa9-0cac5d487feb"
   },
   "outputs": [],
   "source": [
    "# create a dataset with name temp15432\n",
    "dataset_id = dataset = bigquery.Dataset( \"{}.temp15432\".format(client.project) )\n",
    "dataset.location = \"US\"\n",
    "dataset = client.create_dataset(dataset, exists_ok = True, timeout=30)\n",
    "\n",
    "# Set destination table options (optional)\n",
    "#destination_table = \"{}.temp15432.Melanoma_CyCIF_HTA7_1_3_points_within_20um\".format(client.project)  # Adjust to your desired location\n",
    "\n",
    "#job_config = bigquery.QueryJobConfig(destination=destination_table, write_disposition='WRITE_TRUNCATE' )\n",
    "\n",
    "query_job = client.query(query)  # Make an API request.\n",
    "query_job.result()  # Wait for the job to complete"
   ]
  },
  {
   "cell_type": "markdown",
   "metadata": {
    "id": "_Mi5dvI8IGHW"
   },
   "source": [
    "We print the first 10 rows of the generated table. Each row represents a pair of cells with a distance within 20 micrometers (corresponding to 9.29324770787722 earth meters after scaling)"
   ]
  },
  {
   "cell_type": "code",
   "execution_count": null,
   "metadata": {
    "colab": {
     "base_uri": "https://localhost:8080/",
     "height": 380
    },
    "id": "Syfy_udOhyOK",
    "outputId": "fc2fa7d0-f7b2-4960-b761-6f1fb777e828"
   },
   "outputs": [],
   "source": [
    "query = \"\"\"SELECT *\n",
    "FROM {}.temp15432.Melanoma_CyCIF_HTA7_1_3_points_within_20um LIMIT 10\n",
    "\"\"\".format( client.project  )\n",
    "df = pandas_gbq.read_gbq(query,project_id=project_id)\n",
    "df"
   ]
  },
  {
   "cell_type": "markdown",
   "metadata": {
    "id": "Qy3JfrXJKvaS"
   },
   "source": [
    "## 4.3 Distribution of neighboring tumor cells\n",
    "We can utilize the table of neighboring cells to determine the distribution of neighboring tumor cells for each tumor cell, i.e., the number of tumor cells located in the vicinity of each tumor cell."
   ]
  },
  {
   "cell_type": "code",
   "execution_count": null,
   "metadata": {
    "colab": {
     "base_uri": "https://localhost:8080/"
    },
    "id": "Jl0F73cUa_ss",
    "outputId": "d7df1763-ddf7-45d4-c100-b16bb45790b8"
   },
   "outputs": [],
   "source": [
    "query = \"\"\"\n",
    "WITH cellp AS (\n",
    "  SELECT CellID, celltype, CellID_1, celltype_1\n",
    "  FROM `{}.temp15432.Melanoma_CyCIF_HTA7_1_3_points_within_20um`\n",
    "  WHERE  X_centroid > 23076.9 AND X_centroid < 30384.6\n",
    "  AND Y_centroid > 9615.3 AND Y_centroid < 15000\n",
    "\n",
    ")\n",
    "SELECT CellID, COUNTIF(celltype_1 = 'Tumor') -1  AS N_Tumor_Cells,\n",
    "FROM cellp\n",
    "WHERE celltype = 'Tumor'\n",
    "GROUP BY CellID\n",
    "\"\"\".format( client.project  )\n",
    "df1 = pandas_gbq.read_gbq(query,project_id=project_id)\n"
   ]
  },
  {
   "cell_type": "code",
   "execution_count": null,
   "metadata": {
    "colab": {
     "base_uri": "https://localhost:8080/",
     "height": 471
    },
    "id": "eVNgO1sQb6dL",
    "outputId": "ca2e04f7-1d58-4e82-d768-c5d210eee0fc"
   },
   "outputs": [],
   "source": [
    "sns.histplot(data=df1, x=\"N_Tumor_Cells\")\n"
   ]
  },
  {
   "cell_type": "markdown",
   "metadata": {
    "id": "cqXm_sboxWXl"
   },
   "source": [
    "It appears that most of the tumor cells in this Invasive Melanoma region are surrounded by approximately 10 other tumor cells"
   ]
  },
  {
   "cell_type": "markdown",
   "metadata": {
    "id": "QM4bjjaNninB"
   },
   "source": [
    "## 4.4 Clustering tumor cells\n",
    "\n"
   ]
  },
  {
   "cell_type": "markdown",
   "metadata": {
    "id": "f4wdUW21fU9g"
   },
   "source": [
    "BigQuery Geospatial analytics provides additional functions for analyzing spatial data. Here, we utilized the [ST_CLUSTERDBSCAN](https://cloud.google.com/bigquery/docs/reference/standard-sql/geography_functions#st_clusterdbscan) function to identify spatial clusters of tumor cells. This function implements [the DBSCAN algorithm](https://en.wikipedia.org/wiki/DBSCAN), which is capable of identifying high-density clusters of data."
   ]
  },
  {
   "cell_type": "code",
   "execution_count": null,
   "metadata": {
    "colab": {
     "base_uri": "https://localhost:8080/",
     "height": 441
    },
    "id": "Kyo7xOBUFgIh",
    "outputId": "c60d4558-fc07-4faa-f5ac-e49b4e5ac15b"
   },
   "outputs": [],
   "source": [
    "query = \"\"\"\n",
    "WITH cells AS (\n",
    "    SELECT CellID, X_centroid, Y_centroid,\n",
    "      ST_GeogPoint(X_centroid/368570 ,Y_centroid/368570 ) as p\n",
    "    FROM `isb-cgc-bq.HTAN.imaging_level4_HMS_mel_mask_current`\n",
    "    WHERE HTAN_Biospecimen_ID='HTA7_1_3'\n",
    "      AND X_centroid > 23076.9 AND X_centroid < 30384.6\n",
    "      AND Y_centroid > 9615.3 AND Y_centroid < 15000\n",
    "      AND SOX10_cellRingMask > 3704.5\n",
    "      AND (S100B_cellRingMask > 7589.48 OR CD63_cellRingMask > 570.68 )\n",
    ")\n",
    "SELECT CellID, X_centroid, Y_centroid, ST_CLUSTERDBSCAN(p, 20, 10) OVER () AS cluster_num\n",
    "FROM cells\n",
    "ORDER BY cluster_num\n",
    "\"\"\"\n",
    "df = pandas_gbq.read_gbq(query,project_id=project_id)\n",
    "df"
   ]
  },
  {
   "cell_type": "markdown",
   "metadata": {
    "id": "050c0-utfI-Y"
   },
   "source": [
    "The following code generates an image depicting the locations of tumor cells, with each cell colored according to the cluster to which it belongs."
   ]
  },
  {
   "cell_type": "code",
   "execution_count": null,
   "metadata": {
    "colab": {
     "base_uri": "https://localhost:8080/",
     "height": 554
    },
    "id": "3oVCgr1eGwkT",
    "outputId": "c539d902-648b-4c19-d550-767aff9ce9d5"
   },
   "outputs": [],
   "source": [
    "df1 = df.dropna()\n",
    "df1['cluster_num'] = df1['cluster_num'].astype(  str )\n",
    "\n",
    "# Plot it\n",
    "sns.set_style(\"white\")\n",
    "g=sns.scatterplot(data=df1, y=\"Y_centroid\", x=\"X_centroid\", hue='cluster_num', s=5,   alpha = 0.5 , palette=\"icefire\")\n",
    "g.invert_yaxis()"
   ]
  },
  {
   "cell_type": "markdown",
   "metadata": {
    "id": "rey3SQ3Hk3ok"
   },
   "source": [
    "# 5. Relevant links and citations\n",
    "\n",
    "*   [Link to the Manuscript](https://aacrjournals.org/cancerdiscovery/article/12/6/1518/699151/The-Spatial-Landscape-of-Progression-and)\n",
    "*   [Minerva Link showing an image of HTA7_1_3](https://labsyspharm.github.io/HTA-MELATLAS-1/stories/MEL1-full-story.html)\n",
    "*   [Link with the functions available in BigQuery geospatial analyticis](https://cloud.google.com/bigquery/docs/reference/standard-sql/geography_functions)\n",
    "\n"
   ]
  }
 ],
 "metadata": {
  "colab": {
   "include_colab_link": true,
   "provenance": []
  },
  "kernelspec": {
   "display_name": "Python 3 (ipykernel)",
   "language": "python",
   "name": "python3"
  },
  "language_info": {
   "codemirror_mode": {
    "name": "ipython",
    "version": 3
   },
   "file_extension": ".py",
   "mimetype": "text/x-python",
   "name": "python",
   "nbconvert_exporter": "python",
   "pygments_lexer": "ipython3",
   "version": "3.10.16"
  }
 },
 "nbformat": 4,
 "nbformat_minor": 4
}
